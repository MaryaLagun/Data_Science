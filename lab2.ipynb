{
 "cells": [
  {
   "cell_type": "code",
   "execution_count": 3,
   "id": "baf4141e-4260-4001-842e-faeb93f4e2cf",
   "metadata": {},
   "outputs": [
    {
     "name": "stdout",
     "output_type": "stream",
     "text": [
      "Двигатель запущен!\n",
      "Двигатель запущен!\n"
     ]
    }
   ],
   "source": [
    "# Лаба2 Вариант 6\n",
    "class Car:\n",
    "    def __init__(self, brand, year):\n",
    "        self.brand = brand\n",
    "        self.year = year\n",
    "\n",
    "    def start_engine(self):\n",
    "        return \"Двигатель запущен!\"\n",
    "\n",
    "class ElectricCar(Car):\n",
    "    def __init__(self, brand, year, battery_size):\n",
    "        Car.__init__(self, brand, year)\n",
    "        self.battery_size = battery_size\n",
    "\n",
    "# Создание экземпляра класса\n",
    "my_car = Car(\"Geely\", 2024)\n",
    "my_car_el=ElectricCar(\"BMW\", 2024, 220)\n",
    "print(my_car.start_engine()) \n",
    "print(my_car_el.start_engine()) "
   ]
  },
  {
   "cell_type": "code",
   "execution_count": 2,
   "id": "98235645-3635-4c04-9503-1b8afeea3519",
   "metadata": {},
   "outputs": [
    {
     "name": "stdout",
     "output_type": "stream",
     "text": [
      "Двигатель запущен!\n",
      "Тихий запуск двигателя!\n"
     ]
    }
   ],
   "source": [
    "# Лаба2 Вариант 7\n",
    "class Car:\n",
    "    def __init__(self, brand, year):\n",
    "        self.brand = brand\n",
    "        self.year = year\n",
    "\n",
    "    def start_engine(self):\n",
    "        return \"Двигатель запущен!\"\n",
    "\n",
    "class ElectricCar(Car):\n",
    "    def __init__(self, brand, year, battery_size):\n",
    "        Car.__init__(self, brand, year)\n",
    "        self.battery_size = battery_size\n",
    "\n",
    "    def start_engine(self):\n",
    "        return \"Тихий запуск двигателя!\"\n",
    "\n",
    "\n",
    "# Создание экземпляра класса\n",
    "my_car = Car(\"Geely\", 2024)\n",
    "my_car_el=ElectricCar(\"BMW\", 2024, 220)\n",
    "\n",
    "# Использование атрибутов и методов объекта\n",
    "print(my_car.start_engine()) \n",
    "print(my_car_el.start_engine()) "
   ]
  },
  {
   "cell_type": "code",
   "execution_count": 6,
   "id": "b0df679f-e6d1-4e94-bc37-0174b3d6759f",
   "metadata": {},
   "outputs": [
    {
     "name": "stdout",
     "output_type": "stream",
     "text": [
      "Двигатель запущен!\n",
      "Тихий запуск двигателя!\n"
     ]
    }
   ],
   "source": [
    "# Лаба2 Вариант 8\n",
    "class Car:\n",
    "    def __init__(self, brand, year):\n",
    "        self.brand = brand\n",
    "        self.year = year\n",
    "\n",
    "    def start_engine(self):\n",
    "        return \"Двигатель запущен!\"\n",
    "\n",
    "class ElectricCar(Car):\n",
    "    def __init__(self, brand, year, battery_size):\n",
    "        super().__init__(brand, year)\n",
    "        self.battery_size = battery_size\n",
    "\n",
    "    def start_engine(self):\n",
    "        return \"Тихий запуск двигателя!\"\n",
    "\n",
    "\n",
    "# Создание экземпляра класса\n",
    "my_car = Car(\"Geely\", 2024)\n",
    "my_car_el=ElectricCar(\"BMW\", 2024, 220)\n",
    "\n",
    "# Использование атрибутов и методов объекта\n",
    "print(my_car.start_engine()) \n",
    "print(my_car_el.start_engine()) "
   ]
  },
  {
   "cell_type": "code",
   "execution_count": null,
   "id": "37fe2b95-54d5-4f4f-9115-9dbd273bcba4",
   "metadata": {},
   "outputs": [],
   "source": []
  }
 ],
 "metadata": {
  "kernelspec": {
   "display_name": "Python 3 (ipykernel)",
   "language": "python",
   "name": "python3"
  },
  "language_info": {
   "codemirror_mode": {
    "name": "ipython",
    "version": 3
   },
   "file_extension": ".py",
   "mimetype": "text/x-python",
   "name": "python",
   "nbconvert_exporter": "python",
   "pygments_lexer": "ipython3",
   "version": "3.12.2"
  }
 },
 "nbformat": 4,
 "nbformat_minor": 5
}
