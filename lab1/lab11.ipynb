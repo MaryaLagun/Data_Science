{
 "cells": [
  {
   "cell_type": "code",
   "execution_count": null,
   "id": "e6ed0c72-5727-4985-a152-226af32d8b80",
   "metadata": {},
   "outputs": [],
   "source": []
  },
  {
   "cell_type": "code",
   "execution_count": 13,
   "id": "0a6ae402-2c4f-473f-be07-8157f9697a08",
   "metadata": {},
   "outputs": [
    {
     "name": "stdout",
     "output_type": "stream",
     "text": [
      "unique_numbers: {99, 103, 104, 105, 110}\n"
     ]
    }
   ],
   "source": [
    "unique_numbers = {110, 105, 103, 104, 105}\n",
    "unique_numbers.add(99)\n",
    "print(\"unique_numbers:\", unique_numbers)\n"
   ]
  },
  {
   "cell_type": "code",
   "execution_count": null,
   "id": "02deb5e9-57ce-41c1-80ba-00ef2a546db0",
   "metadata": {},
   "outputs": [],
   "source": []
  },
  {
   "cell_type": "code",
   "execution_count": 16,
   "id": "ae4f4f82-9047-4767-9413-6f8014cd40b2",
   "metadata": {},
   "outputs": [
    {
     "name": "stdin",
     "output_type": "stream",
     "text": [
      "Введите ваше число:  25\n"
     ]
    },
    {
     "name": "stdout",
     "output_type": "stream",
     "text": [
      "unique_numbers: {103, 55, 454, 102, 25.0, 110}\n"
     ]
    }
   ],
   "source": [
    " # Сложность алгоритма o(n)\n",
    "def input_grade():\n",
    "    try:\n",
    "        # Попытка преобразовать ввод в число\n",
    "        unique_numbers = {110, 102, 103, 55, 454}\n",
    "        grade = float(input(\"Введите ваше число: \"))\n",
    "        unique_numbers.add(grade)\n",
    "    except ValueError:\n",
    "        # Обработка исключения, если ввод не является числом\n",
    "        print(\"Ошибочный ввод! Пожалуйста, введите число.\")\n",
    "    finally:\n",
    "        # Этот блок кода выполнится независимо от того, возникло исключение или нет\n",
    "        print(\"unique_numbers:\", unique_numbers)\n",
    "\n",
    "# Вызов функции для ввода оценки\n",
    "input_grade()\n",
    "\n"
   ]
  },
  {
   "cell_type": "code",
   "execution_count": null,
   "id": "03505ac2-1474-46bb-a77e-c0ad630bfaec",
   "metadata": {},
   "outputs": [],
   "source": []
  }
 ],
 "metadata": {
  "kernelspec": {
   "display_name": "Python 3 (ipykernel)",
   "language": "python",
   "name": "python3"
  },
  "language_info": {
   "codemirror_mode": {
    "name": "ipython",
    "version": 3
   },
   "file_extension": ".py",
   "mimetype": "text/x-python",
   "name": "python",
   "nbconvert_exporter": "python",
   "pygments_lexer": "ipython3",
   "version": "3.12.2"
  }
 },
 "nbformat": 4,
 "nbformat_minor": 5
}
